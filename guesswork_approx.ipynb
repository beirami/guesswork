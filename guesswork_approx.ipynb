{
 "cells": [
  {
   "cell_type": "code",
   "execution_count": 1,
   "metadata": {},
   "outputs": [
    {
     "name": "stdout",
     "output_type": "stream",
     "text": [
      "Alphabet size: 3\n",
      "Probability vector: [0.5 0.3 0.2]\n",
      "total time for populating the probabilitues:  0.03661298751831055\n"
     ]
    }
   ],
   "source": [
    "# Authored by Ahmad Beirami\n",
    "# Last modified April 20, 2020\n",
    "# If you use this notebook, please cite https://arxiv.org/pdf/1801.09021.pdf\n",
    "\n",
    "\n",
    "%matplotlib inline\n",
    "import numpy as np\n",
    "import matplotlib.pyplot as plt\n",
    "import math\n",
    "import time\n",
    "\n",
    "start = time.time()\n",
    "\n",
    "p = np.array([0.5, 0.3, 0.2]) \n",
    "A = len(p) \n",
    "N = 8\n",
    "if A not in [2,3,4]:\n",
    "    print(\"Error, Alphabet size\", A, \"not supported\")\n",
    "else:\n",
    "    print(\"Alphabet size:\", A)\n",
    "    print(\"Probability vector:\", p)\n",
    "    \n",
    "    \n",
    "if A == 2:\n",
    "    p = p/sum(p)\n",
    "    p.sort()\n",
    "    log_prob = []\n",
    "    for i in range(N+1):\n",
    "        j = N - i\n",
    "        for num in range(np.int(math.factorial(N)/ math.factorial(i) / math.factorial(j))):\n",
    "            log_prob.append(i * np.log2(p[0]) + j * np.log2(p[1]))\n",
    "    prob = [2**l for l in log_prob]    \n",
    "\n",
    "    \n",
    "\n",
    "    \n",
    "elif A == 3:\n",
    "    p = p/sum(p)\n",
    "    log_prob = []\n",
    "    for i in range(N+1):\n",
    "        for j in range(N - i+1):\n",
    "            k = N - i - j\n",
    "            for num in range(np.int(math.factorial(N)/ math.factorial(i) / math.factorial(j) / math.factorial(k))):\n",
    "                log_prob.append(i * np.log2(p[0]) + j * np.log2(p[1]) + k *np.log2(p[2]))\n",
    "    log_prob.sort(reverse = True)\n",
    "    prob = [2**l for l in log_prob]\n",
    "\n",
    "\n",
    "elif A == 4:\n",
    "    p = p/sum(p)\n",
    "    log_prob = []\n",
    "    for i in range(N+1):\n",
    "        for j in range(N- i+1):\n",
    "            for k in range(N-i-j+1):\n",
    "                l = N - i - j - k\n",
    "                for num in range(np.int(math.factorial(N)/ math.factorial(i) / math.factorial(j) \n",
    "                                        / math.factorial(k)/ math.factorial(l))):\n",
    "                    log_prob.append(i * np.log2(p[0]) + j * np.log2(p[1]) + k *np.log2(p[2]) + l*np.log2(p[3]))\n",
    "    log_prob.sort(reverse = True)\n",
    "    prob = [2**l for l in log_prob]\n",
    "end = time.time()\n",
    "print('total time for populating the probabilitues: ', end- start)\n"
   ]
  },
  {
   "cell_type": "code",
   "execution_count": 3,
   "metadata": {},
   "outputs": [
    {
     "name": "stdout",
     "output_type": "stream",
     "text": [
      "Alphabet size: 3\n",
      "Probability vector: [0.5 0.3 0.2]\n",
      "total time for computing the approximation:  4.573282957077026\n"
     ]
    },
    {
     "data": {
      "text/plain": [
       "[<matplotlib.lines.Line2D at 0x111419898>]"
      ]
     },
     "execution_count": 3,
     "metadata": {},
     "output_type": "execute_result"
    },
    {
     "data": {
      "image/png": "[encoded data removed]",
      "text/plain": [
       "<Figure size 576x576 with 1 Axes>"
      ]
     },
     "metadata": {},
     "output_type": "display_data"
    }
   ],
   "source": [
    "start = time.time()\n",
    "\n",
    "plt.figure(figsize=(8,8))\n",
    "plt.title(f\"Approximation of Guesswork PMF\")\n",
    "plt.xlabel(\"G(x)\")\n",
    "plt.ylabel(\"p(x)\");\n",
    "\n",
    "print(\"Alphabet size:\", A)\n",
    "print(\"Probability vector:\", p)\n",
    "\n",
    "\n",
    "rel_ent_alphas = []\n",
    "rel_ent_alphas_ = []\n",
    "guesswork_approx = []\n",
    "guesswork_approx_ = []\n",
    "alphas = np.exp(np.arange(-6, 3, 0.1))\n",
    "\n",
    "\n",
    "for a in alphas:\n",
    "    log_prob_a = [l * a for l in log_prob]\n",
    "    log_prob_a_ = [l * -a for l in log_prob]\n",
    "\n",
    "    prob_a = np.exp(log_prob_a) / sum(np.exp(log_prob_a))\n",
    "    prob_a_ = np.exp(log_prob_a_) / sum(np.exp(log_prob_a_))\n",
    "\n",
    "    ent_a = np.sum([-p * np.log2(p) for p in prob_a])\n",
    "    ent_a_= np.sum([-p * np.log2(p) for p in prob_a_])\n",
    "    \n",
    "    var_ent_a = np.sum([p * (np.log2(p) + ent_a)**2 for p in prob_a])\n",
    "    var_ent_a_ = np.sum([p * (np.log2(p) + ent_a_)**2 for p in prob_a_])\n",
    "        \n",
    "    rel_ent_alphas.append(np.sum(np.dot(prob_a, log_prob)))\n",
    "    rel_ent_alphas_.append(np.sum(np.dot(prob_a_, log_prob)))\n",
    "        \n",
    "    guesswork_approx.append(ent_a - np.log2(np.sqrt(math.pi/4 * var_ent_a) + np.sqrt(math.pi/4 * var_ent_a + 4)))\n",
    "    guesswork_approx_.append(ent_a_ - np.log2(np.sqrt(math.pi/4 *  var_ent_a_) + np.sqrt(math.pi/4 * var_ent_a_ + 4)))\n",
    "\n",
    "\n",
    "plt.plot([2**(g) - 0.5  for g in guesswork_approx], rel_ent_alphas, color='b')\n",
    "plt.plot([A**N - 2**(g) - 0.5  for g in guesswork_approx_], rel_ent_alphas_, color='r')\n",
    "end = time.time()\n",
    "\n",
    "print('total time for computing the approximation: ', end - start)\n",
    "plt.plot(log_prob, color='magenta')"
   ]
  },
  {
   "cell_type": "code",
   "execution_count": null,
   "metadata": {
    "collapsed": true
   },
   "outputs": [],
   "source": []
  }
 ],
 "metadata": {
  "kernelspec": {
   "display_name": "Python 3",
   "language": "python",
   "name": "python3"
  },
  "language_info": {
   "codemirror_mode": {
    "name": "ipython",
    "version": 3
   },
   "file_extension": ".py",
   "mimetype": "text/x-python",
   "name": "python",
   "nbconvert_exporter": "python",
   "pygments_lexer": "ipython3",
   "version": "3.6.3"
  }
 },
 "nbformat": 4,
 "nbformat_minor": 2
}
